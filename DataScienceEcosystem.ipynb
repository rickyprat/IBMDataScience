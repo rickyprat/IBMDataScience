{
  "nbformat": 4,
  "nbformat_minor": 0,
  "metadata": {
    "colab": {
      "provenance": []
    },
    "kernelspec": {
      "name": "python3",
      "display_name": "Python 3"
    },
    "language_info": {
      "name": "python"
    }
  },
  "cells": [
    {
      "cell_type": "markdown",
      "source": [
        "# Data Science Tools and Ecosystem"
      ],
      "metadata": {
        "id": "FnHLYz23c5Mc"
      }
    },
    {
      "cell_type": "markdown",
      "source": [
        "**In this notebook, Data Science Tools and Ecosystem are summarized.**"
      ],
      "metadata": {
        "id": "jWQAjsLgdXHM"
      }
    },
    {
      "cell_type": "markdown",
      "source": [
        "**Some of the popular languages that Data Scientists use are:**\n",
        "\n",
        "\n",
        "1.   R\n",
        "2.   Python\n",
        "\n",
        "1.   SQL\n",
        "2.   JavaScript\n",
        "\n",
        "\n",
        "\n",
        "\n",
        "\n"
      ],
      "metadata": {
        "id": "--hjHgX0du--"
      }
    },
    {
      "cell_type": "markdown",
      "source": [
        "**Some of the commonly used libraries used by Data Scientists include:**\n",
        "\n",
        "\n",
        "1.   Pandas\n",
        "2.   NumPy\n",
        "\n",
        "1.   Matplotlib\n",
        "2.   Keras\n",
        "\n",
        "\n",
        "\n"
      ],
      "metadata": {
        "id": "7M_LoldveYPs"
      }
    },
    {
      "cell_type": "markdown",
      "source": [
        "| **Data Science Tools** |\n",
        "| --- |\n",
        "| Jupyter Notebooks |\n",
        "| RStudio |\n",
        "| Spyder |"
      ],
      "metadata": {
        "id": "Q8gqGrLcgGZh"
      }
    },
    {
      "cell_type": "markdown",
      "source": [
        "### Below are a few examples of evaluating arithmetic expressions in Python:\n",
        "\n"
      ],
      "metadata": {
        "id": "4uTCVzubfT1J"
      }
    },
    {
      "cell_type": "code",
      "source": [
        "# This a simple arithmetic expression to mutiply then add integers\n",
        "(3*4)+5"
      ],
      "metadata": {
        "colab": {
          "base_uri": "https://localhost:8080/"
        },
        "id": "bqRn7nLpfrw8",
        "outputId": "c7157285-96ca-48e7-d8cf-d0dbef9c9b07"
      },
      "execution_count": 7,
      "outputs": [
        {
          "output_type": "execute_result",
          "data": {
            "text/plain": [
              "17"
            ]
          },
          "metadata": {},
          "execution_count": 7
        }
      ]
    },
    {
      "cell_type": "code",
      "source": [
        "# This will convert 200 minutes to hours by diving by 60\n",
        "minutes=200\n",
        "hours=60\n",
        "minutes/hours"
      ],
      "metadata": {
        "colab": {
          "base_uri": "https://localhost:8080/"
        },
        "id": "1w25k7BIidie",
        "outputId": "2d61c249-28d9-4eb3-a3a7-0c82ad134091"
      },
      "execution_count": 5,
      "outputs": [
        {
          "output_type": "execute_result",
          "data": {
            "text/plain": [
              "3.3333333333333335"
            ]
          },
          "metadata": {},
          "execution_count": 5
        }
      ]
    },
    {
      "cell_type": "markdown",
      "source": [
        "**Objectives**\n",
        "\n",
        "\n",
        "*   Popular languages that Data Scientists use\n",
        "*   Commonly used libraries used by Data Scientists\n",
        "\n",
        "\n",
        "*   Open Source Data Science Tools\n",
        "*   Commercial Data Science Tools\n",
        "\n",
        "\n",
        "\n"
      ],
      "metadata": {
        "id": "LoSPOTbOjmON"
      }
    },
    {
      "cell_type": "markdown",
      "source": [
        "## Author\n",
        "Ricky Pratama"
      ],
      "metadata": {
        "id": "Kbis8uPQkVqZ"
      }
    }
  ]
}